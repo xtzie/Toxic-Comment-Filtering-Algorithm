{
 "cells": [
  {
   "cell_type": "markdown",
   "metadata": {},
   "source": [
    "### Data Cleaning & Preparation\n",
    "Now we have a sense of what the data looks like. The visualization makes sense given that this is the comments section for Wikipedia article edits, so words like 'talk', 'article', 'think' etc. will be common. Next we will:\n",
    "\n",
    "- Do named-entity recognition\n",
    "- Remove common stop words\n",
    "- make letters lowercase\n",
    "- Include custom stop words (e.g 'article') as necessary \n",
    "\n",
    "For CountVectorizer feature extraction."
   ]
  },
  {
   "cell_type": "code",
   "execution_count": 5,
   "metadata": {
    "ExecuteTime": {
     "end_time": "2020-02-28T16:38:25.518224Z",
     "start_time": "2020-02-28T16:38:19.570280Z"
    }
   },
   "outputs": [
    {
     "data": {
      "text/plain": [
       "5622"
      ]
     },
     "execution_count": 5,
     "metadata": {},
     "output_type": "execute_result"
    }
   ],
   "source": [
    "my_stop_words = ENGLISH_STOP_WORDS.union(['don', 'wikipedia', 'like','article', 'page', 'wiki', 'edit', 'edits',\n",
    "                                          'did', 'maybe', 'talk', 'talks', 'just', 'people', 'know', 'information',\n",
    "                                         'removed', 'look', 'use', 'section', 'user', 've', 'utc', 'think'])\n",
    "#included manual stop words\n",
    "\n",
    "#Use .union because ENGLISH_STOP_WORDS is a frozen set:\n",
    "#https://stackoverflow.com/questions/26826002/adding-words-to-stop-words-list-in-tfidfvectorizer-in-sklearn\n",
    "\n",
    "minwords = 50\n",
    "maxwords = 16000\n",
    "\n",
    "vectorizer = CountVectorizer(min_df = minwords, max_df = maxwords,\n",
    "                             stop_words = my_stop_words, lowercase = True, token_pattern=\"\\\\b[a-z][a-z]+\\\\b\")\n",
    "\n",
    "limit = 100000\n",
    "#we are limiting our data set size to 100,000 rows for the purpose of efficiency\n",
    "\n",
    "cleaned = vectorizer.fit_transform(df['comment_text'][0:limit])\n",
    "\n",
    "len(vectorizer.get_feature_names())"
   ]
  },
  {
   "cell_type": "markdown",
   "metadata": {},
   "source": [
    "### Topic Modelling\n",
    "We apply LDA modelling and visualize the results in pyLDAvis."
   ]
  },
  {
   "cell_type": "code",
   "execution_count": 6,
   "metadata": {
    "ExecuteTime": {
     "end_time": "2020-02-28T16:44:30.778249Z",
     "start_time": "2020-02-28T16:38:25.520274Z"
    }
   },
   "outputs": [],
   "source": [
    "lda_model_final = LatentDirichletAllocation(n_components=20, # Number of topics\n",
    "                                      learning_method='online',\n",
    "                                      random_state=0,       \n",
    "                                      n_jobs = -1  # Use all available CPUs\n",
    "                                     )\n",
    "lda_output_final = lda_model_final.fit_transform(cleaned)\n"
   ]
  },
  {
   "cell_type": "code",
   "execution_count": 7,
   "metadata": {
    "ExecuteTime": {
     "end_time": "2020-02-28T16:48:07.197277Z",
     "start_time": "2020-02-28T16:44:30.780010Z"
    }
   },
   "outputs": [
    {
     "name": "stderr",
     "output_type": "stream",
     "text": [
      "/home/xtzie/anaconda3/envs/metis/lib/python3.7/site-packages/pyLDAvis/_prepare.py:257: FutureWarning:\n",
      "\n",
      "Sorting because non-concatenation axis is not aligned. A future version\n",
      "of pandas will change to not sort by default.\n",
      "\n",
      "To accept the future behavior, pass 'sort=False'.\n",
      "\n",
      "To retain the current behavior and silence the warning, pass 'sort=True'.\n",
      "\n",
      "\n"
     ]
    }
   ],
   "source": [
    "pyLDAvis.enable_notebook()\n",
    "visualized = pyLDAvis.sklearn.prepare(lda_model_final, cleaned, vectorizer, mds='tsne')\n",
    "pyLDAvis.save_html(visualized, 'outputfile.html')"
   ]
  }
 ],
 "metadata": {
  "kernelspec": {
   "display_name": "Python [conda env:metis] *",
   "language": "python",
   "name": "conda-env-metis-py"
  },
  "language_info": {
   "codemirror_mode": {
    "name": "ipython",
    "version": 3
   },
   "file_extension": ".py",
   "mimetype": "text/x-python",
   "name": "python",
   "nbconvert_exporter": "python",
   "pygments_lexer": "ipython3",
   "version": "3.7.4"
  },
  "toc": {
   "base_numbering": 1,
   "nav_menu": {},
   "number_sections": false,
   "sideBar": true,
   "skip_h1_title": false,
   "title_cell": "Table of Contents",
   "title_sidebar": "Contents",
   "toc_cell": false,
   "toc_position": {
    "height": "calc(100% - 180px)",
    "left": "10px",
    "top": "150px",
    "width": "238.15px"
   },
   "toc_section_display": true,
   "toc_window_display": false
  }
 },
 "nbformat": 4,
 "nbformat_minor": 4
}
